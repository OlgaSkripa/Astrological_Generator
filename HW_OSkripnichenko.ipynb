{
  "nbformat": 4,
  "nbformat_minor": 0,
  "metadata": {
    "colab": {
      "provenance": [],
      "include_colab_link": true
    },
    "kernelspec": {
      "name": "python3",
      "display_name": "Python 3"
    },
    "language_info": {
      "name": "python"
    }
  },
  "cells": [
    {
      "cell_type": "markdown",
      "metadata": {
        "id": "view-in-github",
        "colab_type": "text"
      },
      "source": [
        "<a href=\"https://colab.research.google.com/github/OlgaSkripa/Astrological_Generator/blob/main/HW_OSkripnichenko.ipynb\" target=\"_parent\"><img src=\"https://colab.research.google.com/assets/colab-badge.svg\" alt=\"Open In Colab\"/></a>"
      ]
    },
    {
      "cell_type": "markdown",
      "source": [
        "# Домашнее задание 1"
      ],
      "metadata": {
        "id": "pjgbgFtp-Exl"
      }
    },
    {
      "cell_type": "markdown",
      "source": [
        "Важный комментарий: **назовите** файл решения так, чтобы преподаватель **понимал**, кто сделал его.\n",
        "\n",
        "Большое спасибо и успехов :)"
      ],
      "metadata": {
        "id": "3ntvC_39ER7Q"
      }
    },
    {
      "cell_type": "markdown",
      "source": [
        "## Задача 1"
      ],
      "metadata": {
        "id": "VaEW95Gq-Gig"
      }
    },
    {
      "cell_type": "markdown",
      "source": [
        "Считайте с клавиатуры числа a и b. Выведите гипотенузу треугольника с заданными катетами."
      ],
      "metadata": {
        "id": "Mg6Z1Pdb-NYK"
      }
    },
    {
      "cell_type": "code",
      "source": [
        "a = float(input('Введите значение катета для прямоугольного треугольника: '))\n",
        "b = float(input('Введите значение второго катета для прямоугольного треугольника: '))\n",
        "c = (a**2 + b**2)**(.5)\n",
        "print(f'Гипотенуза прямоугольного треугольника с катетами {a} и {b} равна {c}')"
      ],
      "metadata": {
        "id": "Bk7w19Fn-YAG",
        "colab": {
          "base_uri": "https://localhost:8080/"
        },
        "outputId": "e763d9c4-1561-4de5-c053-07ef5e5576c2"
      },
      "execution_count": null,
      "outputs": [
        {
          "output_type": "stream",
          "name": "stdout",
          "text": [
            "Введите значение катета для прямоугольного треугольника: 4\n",
            "Введите значение второго катета для прямоугольного треугольника: 3\n",
            "Гипотенуза прямоугольного треугольника с катетами 4.0 и 3.0 равна 5.0\n"
          ]
        }
      ]
    },
    {
      "cell_type": "markdown",
      "source": [
        "## Задача 2"
      ],
      "metadata": {
        "id": "7oGsmOxw-UQk"
      }
    },
    {
      "cell_type": "markdown",
      "source": [
        "Создайте двумерный список. Заполните его следующим образом: значение элемента - квадрат номера его строки."
      ],
      "metadata": {
        "id": "VcpcfZ4u-qZg"
      }
    },
    {
      "cell_type": "code",
      "execution_count": null,
      "metadata": {
        "id": "3j8oPrLd9aX3",
        "colab": {
          "base_uri": "https://localhost:8080/"
        },
        "outputId": "41acd20f-2522-4271-c7a5-95361d217037"
      },
      "outputs": [
        {
          "output_type": "stream",
          "name": "stdout",
          "text": [
            "Введите размерность двумерного списка.\n",
            "Количество строк:4\n",
            "Количество столбцов:6\n",
            "[[1, 1, 1, 1, 1, 1],\n",
            " [4, 4, 4, 4, 4, 4],\n",
            " [9, 9, 9, 9, 9, 9],\n",
            " [16, 16, 16, 16, 16, 16]]\n"
          ]
        }
      ],
      "source": [
        "print('Введите размерность двумерного списка.')\n",
        "x = int(input ('Количество строк:'))\n",
        "y = int(input('Количество столбцов:'))\n",
        "lst = [[i**2]*y for i in range(1,x+1)]\n",
        "import pprint\n",
        "pprint.pprint(lst)\n"
      ]
    },
    {
      "cell_type": "markdown",
      "source": [
        "## Задача 3"
      ],
      "metadata": {
        "id": "xxWXsauJ-WOU"
      }
    },
    {
      "cell_type": "markdown",
      "source": [
        "Напишите функцию, которая вычисляет сумму цифр числа, считайте число с клавиатуры и примените эту функцию."
      ],
      "metadata": {
        "id": "DS4KyJXL-rRS"
      }
    },
    {
      "cell_type": "code",
      "source": [
        "def sum_digit(num_str):\n",
        "  lst = [int(i) for i in [*num_str]]\n",
        "  return sum(lst)\n",
        "\n",
        "num_str = input('Введите число с клавиатуры:')\n",
        "print('Сумма его цифр = ', sum_digit(num_str))"
      ],
      "metadata": {
        "id": "Z1TgBgJh9bde",
        "colab": {
          "base_uri": "https://localhost:8080/"
        },
        "outputId": "8185ab49-d098-40ad-ec02-414b37296db2"
      },
      "execution_count": null,
      "outputs": [
        {
          "output_type": "stream",
          "name": "stdout",
          "text": [
            "Введите число с клавиатуры:632\n",
            "Сумма его цифр =  11\n"
          ]
        }
      ]
    },
    {
      "cell_type": "markdown",
      "source": [
        "## Задача 4"
      ],
      "metadata": {
        "id": "wDt-2r4t-dIA"
      }
    },
    {
      "cell_type": "markdown",
      "source": [
        "Сгенерируйте список используя чисел от -10 до 1000 с шагом 2. Выберите только элементы с чётными индексами. После этого используя функцию map возведите в квдрат каждый элемент полученноо списка."
      ],
      "metadata": {
        "id": "7raGVy3m-r4U"
      }
    },
    {
      "cell_type": "code",
      "source": [
        "lst = [item for item in range(-10,1000,2)]\n",
        "#print(lst)\n",
        "lst_even = [item for item in lst if lst.index(item)%2==0]\n",
        "#print(lst_even)\n",
        "lst_even_square = list(map(lambda x: x**2, lst_even))\n",
        "print(lst_even_square)\n"
      ],
      "metadata": {
        "id": "UFTOBvGE9bgh",
        "colab": {
          "base_uri": "https://localhost:8080/"
        },
        "outputId": "65bf1c88-e0da-4ae6-942b-67648a4ee5ec"
      },
      "execution_count": 12,
      "outputs": [
        {
          "output_type": "stream",
          "name": "stdout",
          "text": [
            "[100, 36, 4, 4, 36, 100, 196, 324, 484, 676, 900, 1156, 1444, 1764, 2116, 2500, 2916, 3364, 3844, 4356, 4900, 5476, 6084, 6724, 7396, 8100, 8836, 9604, 10404, 11236, 12100, 12996, 13924, 14884, 15876, 16900, 17956, 19044, 20164, 21316, 22500, 23716, 24964, 26244, 27556, 28900, 30276, 31684, 33124, 34596, 36100, 37636, 39204, 40804, 42436, 44100, 45796, 47524, 49284, 51076, 52900, 54756, 56644, 58564, 60516, 62500, 64516, 66564, 68644, 70756, 72900, 75076, 77284, 79524, 81796, 84100, 86436, 88804, 91204, 93636, 96100, 98596, 101124, 103684, 106276, 108900, 111556, 114244, 116964, 119716, 122500, 125316, 128164, 131044, 133956, 136900, 139876, 142884, 145924, 148996, 152100, 155236, 158404, 161604, 164836, 168100, 171396, 174724, 178084, 181476, 184900, 188356, 191844, 195364, 198916, 202500, 206116, 209764, 213444, 217156, 220900, 224676, 228484, 232324, 236196, 240100, 244036, 248004, 252004, 256036, 260100, 264196, 268324, 272484, 276676, 280900, 285156, 289444, 293764, 298116, 302500, 306916, 311364, 315844, 320356, 324900, 329476, 334084, 338724, 343396, 348100, 352836, 357604, 362404, 367236, 372100, 376996, 381924, 386884, 391876, 396900, 401956, 407044, 412164, 417316, 422500, 427716, 432964, 438244, 443556, 448900, 454276, 459684, 465124, 470596, 476100, 481636, 487204, 492804, 498436, 504100, 509796, 515524, 521284, 527076, 532900, 538756, 544644, 550564, 556516, 562500, 568516, 574564, 580644, 586756, 592900, 599076, 605284, 611524, 617796, 624100, 630436, 636804, 643204, 649636, 656100, 662596, 669124, 675684, 682276, 688900, 695556, 702244, 708964, 715716, 722500, 729316, 736164, 743044, 749956, 756900, 763876, 770884, 777924, 784996, 792100, 799236, 806404, 813604, 820836, 828100, 835396, 842724, 850084, 857476, 864900, 872356, 879844, 887364, 894916, 902500, 910116, 917764, 925444, 933156, 940900, 948676, 956484, 964324, 972196, 980100, 988036, 996004]\n"
          ]
        }
      ]
    },
    {
      "cell_type": "markdown",
      "source": [
        "## Задача 5"
      ],
      "metadata": {
        "id": "WsPcTHfo-eto"
      }
    },
    {
      "cell_type": "markdown",
      "source": [
        "Считать через input строку, состоящую из 3 слов и найти буквы, входящие в каждое из слов."
      ],
      "metadata": {
        "id": "ywPN_EDn-scS"
      }
    },
    {
      "cell_type": "code",
      "source": [
        "str_in = input('Введите строку, состоящую из трёх слов: ')\n",
        "lst_words = str_in.split(' ')\n",
        "for i in range(3):\n",
        "  print(f'В {i+1}-е слово входят буквы {set(lst_words[i])}: ')"
      ],
      "metadata": {
        "id": "hnGsNBgu9bnt",
        "colab": {
          "base_uri": "https://localhost:8080/"
        },
        "outputId": "2fe7f510-1fdf-4500-b857-d9bdcc94c4b2"
      },
      "execution_count": 16,
      "outputs": [
        {
          "output_type": "stream",
          "name": "stdout",
          "text": [
            "Введите строку, состоящую из трёх слов: hgfhgf fhgfgfdh fgdfd\n",
            "В 1-е слово входят буквы {'g', 'h', 'f'}: \n",
            "В 2-е слово входят буквы {'g', 'h', 'd', 'f'}: \n",
            "В 3-е слово входят буквы {'g', 'd', 'f'}: \n"
          ]
        }
      ]
    },
    {
      "cell_type": "markdown",
      "source": [
        "## Задача 6"
      ],
      "metadata": {
        "id": "Tr0vDmSS-hW3"
      }
    },
    {
      "cell_type": "markdown",
      "source": [
        "Считать через input несколько чисел через пробел и найти цифры, входящие в каждое из чисел. Использовать while."
      ],
      "metadata": {
        "id": "Q_YWbDKe-tBf"
      }
    },
    {
      "cell_type": "code",
      "source": [
        "lst_num_in = input('Введите несколько чисел через пробел: ').split(' ')\n",
        "print(lst_num_in)\n",
        "i=0\n",
        "while i in range(len(lst_num_in)):\n",
        "  print(f'В {i+1} числе цифры {set(list(lst_num_in[i]))}')\n",
        "  i+=1"
      ],
      "metadata": {
        "id": "BUCzcxXQ9brD",
        "colab": {
          "base_uri": "https://localhost:8080/"
        },
        "outputId": "c0561764-beda-4ce7-fa62-faecb9d0384d"
      },
      "execution_count": 25,
      "outputs": [
        {
          "output_type": "stream",
          "name": "stdout",
          "text": [
            "Введите несколько чисел через пробел: 45 23 890\n",
            "['45', '23', '890']\n",
            "В 1 числе цифры {'4', '5'}\n",
            "В 2 числе цифры {'2', '3'}\n",
            "В 3 числе цифры {'8', '9', '0'}\n"
          ]
        }
      ]
    },
    {
      "cell_type": "markdown",
      "source": [
        "## Задача 7"
      ],
      "metadata": {
        "id": "AcUypbua-iZp"
      }
    },
    {
      "cell_type": "markdown",
      "source": [
        "Считайте с клавиатуры строку, удалите из нее все цифры и пробелы. Создайте словарь, в котором ключами будут уникальные символы, а значениями их частота вхождения. Частотой вхождения называется отношение числа вхождений данного символа в исходную строку к числу символов в исходной строке."
      ],
      "metadata": {
        "id": "rXHcLZq_-tdX"
      }
    },
    {
      "cell_type": "code",
      "source": [
        "str_in = input('Введите строку: ')\n",
        "lst_in = [char for char in str_in if not char.isdigit() and char!=' ']\n",
        "\n",
        "def count_char(key, lst=lst_in):\n",
        "  count=0\n",
        "  for item in lst:\n",
        "    if key == item:\n",
        "      count+=1\n",
        "  return count\n",
        "\n",
        "dict_in = {key: count_char(key)/len(lst_in) for key in set(lst_in)}\n",
        "print(dict_in)"
      ],
      "metadata": {
        "id": "3PFJwBB59buL",
        "colab": {
          "base_uri": "https://localhost:8080/"
        },
        "outputId": "ef968596-c4a6-46d0-ee91-e321262b0b8e"
      },
      "execution_count": 31,
      "outputs": [
        {
          "output_type": "stream",
          "name": "stdout",
          "text": [
            "Введите строку: jkfdhgsli45834 t34t23746ngcn34 43294t\n",
            "['j', 'k', 'f', 'd', 'h', 'g', 's', 'l', 'i', 't', 't', 'n', 'g', 'c', 'n', 't']\n",
            "{'j': 0.0625, 'h': 0.0625, 'k': 0.0625, 'i': 0.0625, 'd': 0.0625, 'n': 0.125, 'l': 0.0625, 'g': 0.125, 't': 0.1875, 'c': 0.0625, 's': 0.0625, 'f': 0.0625}\n"
          ]
        }
      ]
    },
    {
      "cell_type": "markdown",
      "source": [
        "## Задача 8"
      ],
      "metadata": {
        "id": "DQA7eesu-jZD"
      }
    },
    {
      "cell_type": "markdown",
      "source": [
        "Напишите функцию tpl_sort(), которая сортирует кортеж, состоящий из целых чисел по возрастанию и возвращает его. Если хотя бы один элемент не является целым числом, то функция возвращает исходный кортеж."
      ],
      "metadata": {
        "id": "nUJ7ia-z-uEK"
      }
    },
    {
      "cell_type": "code",
      "source": [
        "def tpl_sort(tpl):\n",
        "    if float in [type(char) for char in tpl]:\n",
        "      return tpl\n",
        "    else:\n",
        "      lst = sorted(list(tpl))\n",
        "      return tuple(lst)\n",
        "print(tpl_sort((2,5,4,1,9,13)))\n",
        "print(tpl_sort((3,8,1,4.7,23,127.34)))\n"
      ],
      "metadata": {
        "id": "4W95x4z99bw5",
        "colab": {
          "base_uri": "https://localhost:8080/"
        },
        "outputId": "e39878d5-92ef-4baf-8eaf-ea5796d953c3"
      },
      "execution_count": 41,
      "outputs": [
        {
          "output_type": "stream",
          "name": "stdout",
          "text": [
            "(1, 2, 4, 5, 9, 13)\n",
            "(3, 8, 1, 4.7, 23, 127.34)\n"
          ]
        }
      ]
    },
    {
      "cell_type": "markdown",
      "source": [
        "## Задача 9"
      ],
      "metadata": {
        "id": "1g3o-oTB-kXS"
      }
    },
    {
      "cell_type": "markdown",
      "source": [
        "Написать функцию season, принимающую 1 аргумент — номер месяца (от 1 до 12), и возвращающую время года, которому этот месяц принадлежит (зима, весна, лето или осень)."
      ],
      "metadata": {
        "id": "CO9PkXhB-ulh"
      }
    },
    {
      "cell_type": "code",
      "source": [
        "def season(num:int):\n",
        "  if num in [1,2,3]:\n",
        "    season_name = 'зима'\n",
        "  elif num in [4,5,6]:\n",
        "    season_name = 'весна'\n",
        "  elif num in [7,8,9]:\n",
        "    season_name = 'лето'\n",
        "  elif num in [10,11,12]:\n",
        "    season_name = 'осень'\n",
        "  else:\n",
        "    season_name = 'нет такого номера месяца'\n",
        "  return season_name\n",
        "\n",
        "for i in range(1,13):\n",
        "  print(season(i))\n",
        "print(season(34))\n",
        "print(season(4.5))\n",
        "print(season('gthdsq'))\n"
      ],
      "metadata": {
        "id": "oJKxJ8gY9bzu",
        "colab": {
          "base_uri": "https://localhost:8080/"
        },
        "outputId": "b0838e38-8cc2-43d4-91d9-2c761581ab87"
      },
      "execution_count": 69,
      "outputs": [
        {
          "output_type": "stream",
          "name": "stdout",
          "text": [
            "зима\n",
            "зима\n",
            "зима\n",
            "весна\n",
            "весна\n",
            "весна\n",
            "лето\n",
            "лето\n",
            "лето\n",
            "осень\n",
            "осень\n",
            "осень\n",
            "нет такого номара месяца\n",
            "нет такого номара месяца\n",
            "нет такого номара месяца\n"
          ]
        }
      ]
    },
    {
      "cell_type": "markdown",
      "source": [
        "## Задача 10"
      ],
      "metadata": {
        "id": "F3hjWy6v-lFF"
      }
    },
    {
      "cell_type": "markdown",
      "source": [
        "Написать функцию is_prime, принимающую 1 аргумент — число от 0 до 1000, и возвращающую True, если оно простое, и False - иначе."
      ],
      "metadata": {
        "id": "vAXZFmwB-vCQ"
      }
    },
    {
      "cell_type": "code",
      "source": [
        "def is_prime(number:int)->bool:\n",
        "  i=2\n",
        "  while 1 < i < number and type(i) == int:\n",
        "    if number%i == 0 :\n",
        "      return False\n",
        "      break\n",
        "    else:\n",
        "      i=i+1\n",
        "  return True\n",
        "\n",
        "print(is_prime(11))"
      ],
      "metadata": {
        "id": "dX5HhNrM9b2r",
        "colab": {
          "base_uri": "https://localhost:8080/"
        },
        "outputId": "b4f4a158-2fcc-45db-b1e7-3c157a6fd6aa"
      },
      "execution_count": 68,
      "outputs": [
        {
          "output_type": "stream",
          "name": "stdout",
          "text": [
            "True\n"
          ]
        }
      ]
    }
  ]
}